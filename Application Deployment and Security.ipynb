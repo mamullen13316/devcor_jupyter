{
 "cells": [
  {
   "cell_type": "markdown",
   "metadata": {},
   "source": [
    "# Application Deployment and Security\n",
    "\n",
    "Exam topics covered:\n",
    "4.1 Diagnose a CI/CD pipeline failure (such as missing dependency, incompatible versions of components, and failed tests)  \n",
    "\n",
    "4.2 Integrate an application into a prebuilt CD environment leveraging Docker and Kubernetes\n",
    "\n",
    "4.3 Describe the benefits of continuous testing and static code analysis in a CI pipeline\n",
    "\n",
    "4.4 Utilize Docker to containerize an application\n",
    "\n",
    "4.5 Describe the tenets of the \"12-factor app\"\n",
    "\n",
    "4.6 Describe an effective logging strategy for an application\n",
    "\n",
    "4.7 Explain data privacy concerns related to storage and transmission of data\n",
    "\n",
    "4.8 Identify the secret storage approach relevant to a given scenario\n",
    "\n",
    "4.9 Configure application specific SSL certificates\n",
    "\n",
    "4.10 Implement mitigation strategies for OWASP threats (such as XSS, CSRF, and SQL injection)\n",
    "\n",
    "4.11 Describe how end-to-end encryption principles apply to APIs"
   ]
  },
  {
   "cell_type": "markdown",
   "metadata": {},
   "source": [
    "## Storing Secrets\n",
    "\n",
    "Common Strategies:\n",
    "1. Use an interactive prompt to request secret information at run time\n",
    "\n",
    "2. Store secrets in environment variables on the machine and import them at run time\n",
    "\n",
    "3. Use OS-specific key storage such as MacOS Keyring\n",
    "\n",
    "4. Encrypted vault files such as Hashicorp Vault.  \n",
    "\n",
    "\n"
   ]
  },
  {
   "cell_type": "markdown",
   "metadata": {},
   "source": [
    "## Mitigating OWASP Threats\n",
    "\n",
    "Common threats:\n",
    "1. SQL Injection - attacker attempts to exploit the server by injecting code into fields while doing an HTTP PUT or POST. If the fields do not have good input validation protection, this can result in allowing the attacker to run unauthorized commands against the database\n",
    "\n",
    "Mitigation: Implement strong input validation and use an ORM since it will not pass arbitrary commands to the database. \n",
    "\n",
    "2. Cross-site Scripting (XSS) - The attacker plants malicious code on a legitimate web site. The client browser will execute the code when they access the site.  This will allow the attacker to access all sessions that the browser has open.\n",
    "\n",
    "Mitigation:  Escape the input such that even if there is code, it is represented as a string. Also validate and sanitize the user input. \n",
    "\n",
    "3. CSRF (Cross-Site Request Forgery) - Attack where a malicious web site accesses a site in a separate browser or browser tab.  Ex. When posting to a blog site, the post requests accesses a banking site open in another tab. \n",
    "\n",
    "Mitigation: Add hashes to web forms, and use the HTTP Referer to ensure requests are coming from the original site and not cross-site. The `flask-WTF` module can be used to add CSRF support to a Flask web site.  \n",
    "\n",
    "```\n",
    "from flask_wtf.csrf import CSRFProtect\n",
    "\n",
    "csrf = CSRFProtect(app)\n",
    "\n",
    "app.secret_key = os.urandom(24)\n",
    "```\n",
    "The HTML template also needs to be updated to include the CSRF token.\n",
    "Example:\n",
    "```\n",
    "<form action\"\" method= \"post\">\n",
    "  <input type=\"hidden\" name=\"csrf_token\" value={{ csrf_token() }}\"/>\n",
    "```\n",
    "\n",
    "\n"
   ]
  },
  {
   "cell_type": "markdown",
   "metadata": {},
   "source": [
    "## The 12-Factor App\n",
    "\n",
    "https://12factor.net\n",
    "\n",
    "1. Codebase - always tracked in version control system such as Git. Many deploys (running instances of the app).  Ex. Prod, Staging, Dev, QA, etc. \n",
    "\n",
    "2. Dependencies - explicitly declare and isolate dependencies.  Never rely on existence of system-wide packages.  Ex. Use Python pip in a virtual environment. \n",
    "\n",
    "3. Config - Separate config from code. \n",
    "\n",
    "4. Backing Services - treat backing services such as databases, messaging/queuing systems, SMTP, or caching as attached resources.  The app shouldn't care if a database is local or across the network, how the database connection is made should be stored in the config. \n",
    "\n",
    "5. Build, Release, Run - separate build and run stages.  Build creates the executable and packages the code with all dependencies.  The release stage takes the build and combines it with the current config.  The run stage executes the app.  Releases should be versioned and are immutable. Any change requires a new build and subsequent release. \n",
    "\n",
    "6. Processes - should be stateless and share-nothing.  Data that needs to persist must be stored in a database.  \n",
    "\n",
    "7. Port binding - the app is completely self-contained, including any necessary services to expose the app.  For example,  the web server is built into and deployed alongside the app. \n",
    "\n",
    "8. Concurrency - scale out via the process model.  \n",
    "\n",
    "9. Disposability - processes can be started or stopped at a moment's notice.  Minimize startup time and shut down gracefully. \n",
    "\n",
    "10. Dev/prod parity.  Keep development, staging, and production as similar as possible.  Small time between deploys having developers who are also the deployers lends to this. \n",
    "\n",
    "11. Logs.  Each process should write its event stream to stdout. The stream can be sent to a file and watched in realtime using tail -f.  \n",
    "\n",
    "12. Admin processes. Run one-off admin processes in the identical environment as the rest of the app.  Admin code must ship with application code. \n",
    "\n"
   ]
  },
  {
   "cell_type": "markdown",
   "metadata": {},
   "source": [
    "## SSL Certificates\n",
    "\n",
    "- protects transit data flows using trusted certificates\n",
    "- provides Confidentiality and Integrity\n",
    "- Confidentiality means that the data cannot be read while it is in transit\n",
    "- Integrity means that the data cannot be modified while in transit\n",
    "- SSL has been obsoleted by TLS\n",
    "\n",
    "Authentication Process\n",
    "\n",
    "1. Client sends request to server on TCP 443\n",
    "2. Server provides its certificate that contains its public key and some metadata\n",
    "3. Client checks that the certificate provided by the server is a valid signed certificate against a trusted Certificate Authority\n",
    "4. Client responds with data that is encrypted using the servers public key (sometimes called the premaster key)\n",
    "5. Both devices compute the symmetric key and this is used to encrypt data in both directions"
   ]
  },
  {
   "cell_type": "markdown",
   "metadata": {},
   "source": [
    "To generate a self-signed certificate for an application, the openssl command can be used:\n",
    "\n",
    "```\n",
    "openssl req -new -newkey rsa:2048 -days 365 -nodes -x509 \\\n",
    "- subj \"/C=US/ST=North Carolina/L=RTP/O=Cisco/CN=demo.cisco.com\" \\\n",
    "-keyout key.pem -out cert.pem\n",
    "```\n",
    "\n",
    "The certificate and key can then be added as a tuple to the ssl_context argument of the app.run() method of Flask.\n",
    "\n",
    "```\n",
    "sslctx = (\"cert.pem, \"key.pem\")\n",
    "\n",
    "app.run(host=\"0.0.0.0\", debut=True, ssl_context=sslctx)\n",
    "```\n"
   ]
  },
  {
   "cell_type": "code",
   "execution_count": null,
   "metadata": {},
   "outputs": [],
   "source": []
  }
 ],
 "metadata": {
  "kernelspec": {
   "display_name": "Python 3",
   "language": "python",
   "name": "python3"
  },
  "language_info": {
   "codemirror_mode": {
    "name": "ipython",
    "version": 3
   },
   "file_extension": ".py",
   "mimetype": "text/x-python",
   "name": "python",
   "nbconvert_exporter": "python",
   "pygments_lexer": "ipython3",
   "version": "3.7.2"
  }
 },
 "nbformat": 4,
 "nbformat_minor": 4
}
