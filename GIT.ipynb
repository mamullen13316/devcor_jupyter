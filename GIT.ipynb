{
 "cells": [
  {
   "cell_type": "markdown",
   "metadata": {},
   "source": [
    "# GIT "
   ]
  },
  {
   "cell_type": "markdown",
   "metadata": {},
   "source": [
    "Exam topics covered: \n",
    "1.10 Utilize advanced version control operations with Git  \n",
    "1.10.a Merge a branch  \n",
    "1.10.b Resolve conflicts  \n",
    "1.10.c git reset  \n",
    "1.10.d git checkout  \n",
    "1.10.e git revert  "
   ]
  },
  {
   "cell_type": "markdown",
   "metadata": {},
   "source": [
    "## Initializing a repo"
   ]
  },
  {
   "cell_type": "markdown",
   "metadata": {},
   "source": [
    "```\n",
    "git init\n",
    "git remote add origin https://github.com/mamullen13316/git-demo.git\n",
    "```"
   ]
  },
  {
   "cell_type": "markdown",
   "metadata": {},
   "source": [
    "## Tracking files"
   ]
  },
  {
   "cell_type": "markdown",
   "metadata": {},
   "source": [
    "To add a single file:\n",
    "```\n",
    "git add [filename]\n",
    "```\n",
    "To add all files and any directories in the working directory:\n",
    "```\n",
    "git add .\n",
    "```"
   ]
  },
  {
   "cell_type": "markdown",
   "metadata": {},
   "source": [
    "## Committing and Pushing to Remote"
   ]
  },
  {
   "cell_type": "markdown",
   "metadata": {},
   "source": [
    "Committing local changes and pushing to the remote repo (Github, etc.):\n",
    "```\n",
    "git commit -m \"first commit\"\n",
    "```\n",
    "On the first push from any branch, you have to specify the remote tracking branch with the -u or --set-upstream argument. \n",
    "```\n",
    "git push --set-upstream origin master\n",
    "```\n",
    "This sets the remote branch that will be used for `fetch`, `pull`, and `push` commands.  You can view the remote branch by issuing `git remote -v`. "
   ]
  },
  {
   "cell_type": "markdown",
   "metadata": {},
   "source": [
    "Once the upstream is set,  you can simply type:\n",
    "```\n",
    "git push\n",
    "```"
   ]
  },
  {
   "cell_type": "markdown",
   "metadata": {},
   "source": [
    "## Branches"
   ]
  },
  {
   "cell_type": "markdown",
   "metadata": {},
   "source": [
    "To create a branch:\n",
    "```\n",
    "git branch [branch-name]\n",
    "```"
   ]
  },
  {
   "cell_type": "markdown",
   "metadata": {},
   "source": [
    "To create a branch and switch to it:\n",
    "```\n",
    "git checkout -b [branch-name]\n",
    "```"
   ]
  },
  {
   "cell_type": "markdown",
   "metadata": {},
   "source": [
    "The command `git checkout` is used to switch between branches.  The above command creates the branch and then switches into the branch.  On initial checkout, all files will be replicated from the current branch into the new branch.  You can then make changes in the branch which do not impact other branches.   "
   ]
  },
  {
   "cell_type": "markdown",
   "metadata": {},
   "source": [
    "> As of git 2.23.0, there is a `git switch` command that provides exactly the same functionality. "
   ]
  },
  {
   "cell_type": "markdown",
   "metadata": {},
   "source": [
    "To view a list of branches type: `git branch`"
   ]
  },
  {
   "cell_type": "markdown",
   "metadata": {},
   "source": [
    "## Undoing Changes with Checkout, Reset,  and Revert"
   ]
  },
  {
   "cell_type": "markdown",
   "metadata": {},
   "source": [
    "### Checkout\n",
    "The `git checkout` command has several use cases besides switching between branches.  It can also be used to switch to another commit (referred to as \"detached HEAD\"), and can be used to undo **unstaged** and **uncommitted** changes that have been made to a file.  This means `git add` and `git commit` have not yet been run since the changes were made.\n",
    "\n",
    "To undo all changes to a file in your working directory, type:\n",
    "```\n",
    "git checkout -- [filename]\n",
    "```\n",
    "\n",
    "This will change the contents of the file back to the last commit.\n",
    "\n",
    "> This is dangerous as there will be no saved copy of the changes you made to the file, the changes are gone.  \n",
    "\n",
    "> As of git 2.23.0 there is a `git restore` command that provides the exact same functionality. \n"
   ]
  },
  {
   "cell_type": "markdown",
   "metadata": {},
   "source": [
    "### Reset\n",
    "If the file has already been staged with `git add` you must first unstage the file:\n",
    "\n",
    "```\n",
    "git reset HEAD [filename]\n",
    "```\n",
    "This does not undo any changes, you can then proceed with the `git checkout` command as shown above.    \n",
    "\n",
    "> HEAD is a pointer to the last commit made on the branch\n",
    "\n",
    "If the changes have already committed, then you have to tell the reset command to go back to the commit before the last:\n",
    "\n",
    "```\n",
    "git reset HEAD~ [filename]\n",
    "```\n",
    "\n",
    "This does a what is called a \"mixed\" reset by default, it moves the changed file from the Local Repo back into your working directory.  This takes you back to the state prior to executing `git add`.  You can also specify the --soft parameter which will move the file back to the Staging area instead.  This takes you back to the point after doing `git add`.  \n",
    "\n",
    "Alternatively,  you can specify the --hard option which will forcibly overwrite all changes in the working directory with the contents of the last commit. This can't be done on an individual file,  it will reset all files.  \n",
    "\n",
    "To reset all files back to the previous commit:\n",
    "```\n",
    "git reset --hard HEAD~\n",
    "```\n",
    "\n",
    "> The difference between `git checkout` and `git reset` is that checkout changes HEAD itself whereas reset changes the commit HEAD points to.  \n",
    "\n",
    "At this point it might be confusing what the tilde (~) is doing in the above command right after HEAD. This tells the reset command we want to reset HEAD to the commit right before the last one.  This can best be illustrated using the `git show` command.  Below we have two commits and we want to undo the second one.  \n",
    "\n",
    "```\n",
    "git show --oneline HEAD                                                                  Sat Jun 20 16:26:24 2020\n",
    "fee5346 (HEAD -> master) second commit\n",
    "diff --git a/hello.py b/hello.py\n",
    "index 73fb7c3..f1b4565 100644\n",
    "--- a/hello.py\n",
    "+++ b/hello.py\n",
    "@@ -1 +1,2 @@\n",
    " print('Hello World!')\n",
    "+print('blablabla')\n",
    "```\n",
    "As can be seen above,  HEAD is currently pointing to our second commit so if we did a `git reset --hard HEAD`,  we would simply be setting HEAD to where it is now at the commit we want to un-do.  \n",
    "\n",
    "Appending the ~ to HEAD shows us the commit before the last one. \n",
    "\n",
    "```\n",
    "git show --oneline HEAD~                                                                 Sat Jun 20 16:40:43 2020\n",
    "095ff9d (origin/master) first commit\n",
    "diff --git a/hello.py b/hello.py\n",
    "new file mode 100644\n",
    "index 0000000..73fb7c3\n",
    "--- /dev/null\n",
    "+++ b/hello.py\n",
    "@@ -0,0 +1 @@\n",
    "+print('Hello World!')\n",
    "```\n",
    "\n",
    "You can also specify a number next to the tilde to indicate a number of commits before the last one.  \n",
    "\n",
    "In addition, another command that is helpful to recover from a mistake while using `git reset` is the `git reset HEAD{1} --hard` command.  The number in brackets indicates the commit where HEAD was prior to the reset commit (1 change ago).  It determines the number of commits to go back before the last reset.  If you did a hard reset, and need to go back it is possible to do so using this command.  If you need to go back but do not know how many commits back before the reset, the `git reflog` command can be used to see a listing of all resets and commits. In the below example,  two commits are made.  After the second commit,  a hard reset is used to return to the first commit.  Then, `git reset HEAD{1} --hard` is used to go back to the second commit (right befor the reset).  \n",
    "\n",
    "Example:\n",
    "```\n",
    "bash-3.2$ echo \"first commit\" > test\n",
    "bash-3.2$ git add test\n",
    "bash-3.2$ git commit -m \"first commit\"\n",
    "[master (root-commit) fccaa49] first commit\n",
    " 1 file changed, 1 insertion(+)\n",
    " create mode 100644 test\n",
    "bash-3.2$ cat test\n",
    "first commit\n",
    "bash-3.2$ echo \"second commit\" >> test\n",
    "bash-3.2$ cat test\n",
    "first commit\n",
    "second commit\n",
    "bash-3.2$ git add .\n",
    "bash-3.2$ git commit -m \"second commit\"\n",
    "[master f1ee96b] second commit\n",
    " 2 files changed, 3 insertions(+)\n",
    " create mode 100644 test.txt\n",
    "bash-3.2$ git log\n",
    "commit f1ee96b8d4555c15cb8a7e623c19b0d5445e7656 (HEAD -> master)\n",
    "Author: Matt Mullen <mullenmd@gmail.com>\n",
    "Date:   Sat Jul 4 15:23:11 2020 -0400\n",
    "\n",
    "    second commit\n",
    "\n",
    "commit fccaa49db512a40be6fcf8a47ef1ba05ee4db3ea\n",
    "Author: Matt Mullen <mullenmd@gmail.com>\n",
    "Date:   Sat Jul 4 15:22:40 2020 -0400\n",
    "\n",
    "    first commit\n",
    "\n",
    "bash-3.2$ git reset HEAD~ --hard\n",
    "HEAD is now at fccaa49 first commit\n",
    "\n",
    "bash-3.2$ git log\n",
    "commit fccaa49db512a40be6fcf8a47ef1ba05ee4db3ea (HEAD -> master)\n",
    "Author: Matt Mullen <mullenmd@gmail.com>\n",
    "Date:   Sat Jul 4 15:22:40 2020 -0400\n",
    "\n",
    "    first commit\n",
    "bash-3.2$ cat test\n",
    "first commit\n",
    "\n",
    "bash-3.2$ git reflog\n",
    "fccaa49 (HEAD -> master) HEAD@{0}: reset: moving to HEAD~\n",
    "f1ee96b HEAD@{1}: commit: second commit\n",
    "fccaa49 (HEAD -> master) HEAD@{2}: commit (initial): first commit\n",
    "\n",
    "bash-3.2$ git reset HEAD@{1} --hard\n",
    "HEAD is now at f1ee96b second commit\n",
    "bash-3.2$ cat test\n",
    "first commit\n",
    "second commit\n",
    "\n",
    "```\n",
    "\n",
    "\n",
    "\n",
    "\n"
   ]
  },
  {
   "cell_type": "markdown",
   "metadata": {},
   "source": [
    "### Revert"
   ]
  },
  {
   "cell_type": "markdown",
   "metadata": {},
   "source": [
    "A `git revert` is similar to reset however it preserves the commit history.  Git reset re-writes the commit history as if the original commit never existed.  The revert command causes a new commit to be created which contains the inverse of the previous commit, thereby undoing all changes.\n",
    "\n",
    "Here I have two commits,  and I again want to undo the second one.  \n",
    "\n",
    "```\n",
    "git log                                                                                  Sat Jun 20 17:12:36 2020\n",
    "commit 943c61421f673cca9447234a8d7d5fea5565330c (HEAD -> master)\n",
    "Author: Matt Mullen <email@gmail.com>\n",
    "Date:   Sat Jun 20 17:10:22 2020 -0400\n",
    "\n",
    "    second commit\n",
    "\n",
    "commit 095ff9dc6fc189192b0741cbaeb76b210dc51a0f (origin/master)\n",
    "Author: Matt Mullen <email@gmail.com>\n",
    "Date:   Sat Jun 20 13:31:55 2020 -0400\n",
    "\n",
    "    first commit\n",
    "```\n",
    "\n",
    "To move back to the first commit,  I can simply run:\n",
    "```\n",
    "git revert HEAD\n",
    "```\n",
    "In this case HEAD is the commit I want to revert,  the current commit which is the second. The changes were undone and the log now shows:\n",
    "\n",
    "```\n",
    "git log                                                                                  Sat Jun 20 17:14:21 2020\n",
    "commit 5baabc3c0a9c9cd53baaec97491f949b6289ddf7 (HEAD -> master)\n",
    "Author: Matt Mullen <email@gmail.com>\n",
    "Date:   Sat Jun 20 17:14:08 2020 -0400\n",
    "\n",
    "    Revert \"second commit\"\n",
    "\n",
    "    This reverts commit 943c61421f673cca9447234a8d7d5fea5565330c.\n",
    "\n",
    "commit 943c61421f673cca9447234a8d7d5fea5565330c\n",
    "Author: Matt Mullen <email@gmail.com>\n",
    "Date:   Sat Jun 20 17:10:22 2020 -0400\n",
    "\n",
    "    second commit\n",
    "\n",
    "commit 095ff9dc6fc189192b0741cbaeb76b210dc51a0f (origin/master)\n",
    "Author: Matt Mullen <email@gmail.com>\n",
    "Date:   Sat Jun 20 13:31:55 2020 -0400\n",
    "\n",
    "    first commit\n",
    "```"
   ]
  },
  {
   "cell_type": "markdown",
   "metadata": {},
   "source": [
    "## Merging and Resolving Conflicts"
   ]
  },
  {
   "cell_type": "markdown",
   "metadata": {},
   "source": [
    "Merging is the process of taking the files and changes in those files in one branch and merging them into another branch.  A conflict can arise when the same file is changed in two separate branches. In the below example,  a branch is first created and switched into.\n",
    "\n",
    "```\n",
    "git checkout -b dev\n",
    "```\n",
    "\n",
    "Next we create some files in the dev branch,  stage and commit them.\n",
    "```\n",
    "touch test1.txt                                                                        \n",
    "touch test2.txt\n",
    "git add .       \n",
    "git commit -m \"added files to dev branch\"                                          \n",
    "[dev aa19d73] added files to dev branch\n",
    " 2 files changed, 0 insertions(+), 0 deletions(-)\n",
    " create mode 100644 test1.txt\n",
    " create mode 100644 test2.txt\n",
    "```\n",
    "\n",
    "> Note that had we switched back to Master branch prior to adding and committing,  the files would still appear when we do a directory listing.  This is because the files are considered un-tracked,  and hence do not belong to any branch. Once they are staged and committed in the Dev branch,  they are only visible in the Dev branch.  \n",
    "\n",
    "Now that we have created some new files in the Dev branch,  we will switch back to the Master branch and merge the dev branch into Master.  \n",
    "\n",
    "```\n",
    "bash-3.2$ git checkout master\n",
    "Switched to branch 'master'\n",
    "Your branch is up to date with 'origin/master'.\n",
    "bash-3.2$ ls\n",
    "hello.py\n",
    "\n",
    "bash-3.2$ git merge dev\n",
    "Updating 095ff9d..aa19d73\n",
    "Fast-forward\n",
    " test1.txt | 0\n",
    " test2.txt | 0\n",
    " 2 files changed, 0 insertions(+), 0 deletions(-)\n",
    " create mode 100644 test1.txt\n",
    " create mode 100644 test2.txt\n",
    " \n",
    "bash-3.2$ ls\n",
    "hello.py\ttest1.txt\ttest2.txt\n",
    "```\n",
    "The new files have been merged into the Master branch successfully. Let's see what happens if we modify the same file in both branches.  \n",
    "\n",
    "```\n",
    "bash-3.2$ git commit -m \"modified hello.py in the master branch\"\n",
    "[master 5fab554] modified hello.py in the master branch\n",
    " 1 file changed, 1 insertion(+), 1 deletion(-)\n",
    "bash-3.2$ git checkout dev\n",
    "Switched to branch 'dev'\n",
    "bash-3.2$ vi hello.py\n",
    "bash-3.2$ git add .\n",
    "bash-3.2$ git commit -m \"modified hello.py from the dev branch\"\n",
    "[dev bb89879] modified hello.py from the dev branch\n",
    " 1 file changed, 1 insertion(+), 1 deletion(-)\n",
    "bash-3.2$ git status\n",
    "On branch dev\n",
    "nothing to commit, working tree clean\n",
    "bash-3.2$ git checkout master\n",
    "Switched to branch 'master'\n",
    "Your branch is ahead of 'origin/master' by 2 commits.\n",
    "  (use \"git push\" to publish your local commits)\n",
    "bash-3.2$ git merge dev\n",
    "Auto-merging hello.py\n",
    "CONFLICT (content): Merge conflict in hello.py\n",
    "Automatic merge failed; fix conflicts and then commit the result.\n",
    "```\n",
    "\n",
    "The file will be updated with markers indicating the conflicting changes:\n",
    "```\n",
    "bash-3.2$ cat hello.py\n",
    "<<<<<<< HEAD\n",
    "print('Hello World from the Master branch!')\n",
    "=======\n",
    "print('Hello World from the dev branch!')\n",
    ">>>>>>> dev\n",
    "```\n",
    "Everything above the ====== is in the latest commit of the master branch, and everything below is from the branch being merged (dev).  Now we must manually resolve the conflict by keeping what we want,  and removing the markers.  Then we add and commit the changes to master.  \n",
    "\n",
    "```\n",
    "bash-3.2$ git add hello.py\n",
    "bash-3.2$ git commit -m \"fixing merge conflict\"\n",
    "[master ec27634] fixing merge conflict\n",
    "```\n",
    "> Note that it is not necessary to run `git merge` again.  \n",
    "\n",
    "\n"
   ]
  },
  {
   "cell_type": "markdown",
   "metadata": {},
   "source": [
    "## Pulling Remote Changes into your Branch"
   ]
  },
  {
   "cell_type": "markdown",
   "metadata": {},
   "source": [
    "## Git Pull\n",
    "\n",
    "Let's say you have been working in a branch called dev,  but several changes have been pushed into master and you would like to incorporate those changes into your dev branch.  To do that, you can use the `git pull` command.\n",
    "\n",
    "```\n",
    "bash-3.2$ git checkout dev\n",
    "Switched to branch 'dev'\n",
    "\n",
    "bash-3.2$ git pull origin master\n",
    "From https://github.com/mamullen13316/git-demo\n",
    " * branch            master     -> FETCH_HEAD\n",
    "Updating bb89879..7c5c0ed\n",
    "Fast-forward\n",
    " hello.py | 4 +++-\n",
    " 1 file changed, 3 insertions(+), 1 deletion(-)\n",
    " \n",
    "bash-3.2$ cat hello.py\n",
    "print('Hello World merged!')\n",
    "print('This change made in master')\n",
    "```\n"
   ]
  },
  {
   "cell_type": "markdown",
   "metadata": {},
   "source": [
    "## Git Fetch"
   ]
  },
  {
   "cell_type": "markdown",
   "metadata": {},
   "source": [
    "A `git pull` as described above actually accomplishes two things at once,  it brings down a copy of the remote repo to your local machine into what is called your remote-tracking branch and merges the changes into your working directory. The first part of `git pull`, bringing remote changes into your remote-tracking branch, can be accomplished using the `git fetch` command.  By doing a `git fetch` command followed by a `git diff` it allows you to see what changes are in the remote repo prior to merging the changes into your local working copy. \n",
    "\n",
    "```\n",
    "root@469fe2cce1a5:/git-demo# git fetch\n",
    "remote: Enumerating objects: 4, done.\n",
    "remote: Counting objects: 100% (4/4), done.\n",
    "remote: Compressing objects: 100% (2/2), done.\n",
    "remote: Total 3 (delta 0), reused 3 (delta 0), pack-reused 0\n",
    "Unpacking objects: 100% (3/3), done.\n",
    "From https://github.com/mamullen13316/git-demo\n",
    "   58231a2..a4a1f93  master     -> origin/master\n",
    "   \n",
    "root@469fe2cce1a5:/git-demo# ls\n",
    "hello.py  test1.txt  test2.txt\n",
    "\n",
    "root@469fe2cce1a5:/git-demo# git diff master origin/master\n",
    "diff --git a/fetch.txt b/fetch.txt\n",
    "new file mode 100644\n",
    "index 0000000..f8c2692\n",
    "--- /dev/null\n",
    "+++ b/fetch.txt\n",
    "@@ -0,0 +1,2 @@\n",
    "+Testing git fetch!\n",
    "+\n",
    "```\n",
    "\n",
    "Above we can see that there is a new file on the remote called fetch.txt with the contents \"Testing git fetch!\".   Notice when we did a directory listing,  the file was not present.  \n",
    "\n",
    "If we now do a `git merge`,  it will bring the file into the working directory.  \n",
    "\n",
    "```\n",
    "root@469fe2cce1a5:/git-demo# git merge\n",
    "Updating 58231a2..a4a1f93\n",
    "Fast-forward\n",
    " fetch.txt | 2 ++\n",
    " 1 file changed, 2 insertions(+)\n",
    " create mode 100644 fetch.txt\n",
    " \n",
    "root@469fe2cce1a5:/git-demo# ls\n",
    "fetch.txt  hello.py  test1.txt\ttest2.txt\n",
    "\n",
    "root@469fe2cce1a5:/git-demo# cat fetch.txt\n",
    "Testing git fetch!\n",
    "```"
   ]
  },
  {
   "cell_type": "code",
   "execution_count": null,
   "metadata": {},
   "outputs": [],
   "source": []
  }
 ],
 "metadata": {
  "kernelspec": {
   "display_name": "Python 3",
   "language": "python",
   "name": "python3"
  },
  "language_info": {
   "codemirror_mode": {
    "name": "ipython",
    "version": 3
   },
   "file_extension": ".py",
   "mimetype": "text/x-python",
   "name": "python",
   "nbconvert_exporter": "python",
   "pygments_lexer": "ipython3",
   "version": "3.8.3"
  }
 },
 "nbformat": 4,
 "nbformat_minor": 4
}
