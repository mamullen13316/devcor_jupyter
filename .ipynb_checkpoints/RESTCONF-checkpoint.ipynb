{
 "cells": [
  {
   "cell_type": "markdown",
   "id": "fd2a3059",
   "metadata": {},
   "source": [
    "# RESTCONF\n",
    "\n",
    "Exam Topics Covered:\n",
    "5.2 Utilize RESTCONF to configure a network device including interfaces, static routes, and VLANs (IOS XE only)"
   ]
  },
  {
   "cell_type": "markdown",
   "id": "73644b00",
   "metadata": {},
   "source": [
    "## Create/Retrieve/Delete Interface"
   ]
  },
  {
   "cell_type": "code",
   "execution_count": 58,
   "id": "7c4049be",
   "metadata": {},
   "outputs": [
    {
     "name": "stdout",
     "output_type": "stream",
     "text": [
      "1. Create Interface\n",
      "2. Get Interface\n",
      "3. Delete Interface\n",
      "4. Quit\n",
      "Enter selection: 4\n"
     ]
    }
   ],
   "source": [
    "import requests\n",
    "import logging\n",
    "\n",
    "logging.basicConfig(level=logging.INFO, format='%(levelname)s: %(message)s')\n",
    "requests.packages.urllib3.disable_warnings()\n",
    "\n",
    "# DevNet IOS XE Sandbox\n",
    "api_path = \"https://sandbox-iosxe-latest-1.cisco.com/restconf\"\n",
    "\n",
    "# DevNet Creds using HTTP Basic Authentication\n",
    "auth = (\"admin\", \"C1sco12345\")\n",
    "\n",
    "def create_intf(name: str):\n",
    "    post_hdrs = {\n",
    "        \"Content-Type\": \"application/yang-data+json\",\n",
    "        \"Accept\": \"application/yang-data+json, application/yang-data.errors+json\"\n",
    "    }\n",
    "\n",
    "    # Headers for POST (interface creation)\n",
    "    intf = {\n",
    "        \"interface\":\n",
    "        {\n",
    "            \"enabled\": True,\n",
    "            \"ietf-ip:ipv4\": {},\n",
    "            \"ietf-ip:ipv6\": {},\n",
    "            \"name\": name,\n",
    "            \"type\": \"iana-if-type:softwareLoopback\"\n",
    "        }\n",
    "    }\n",
    "    \n",
    "    post_url = f\"{api_path}/data/ietf-interfaces:interfaces\"\n",
    "    \n",
    "    logging.info(\"Creating interface Lo10101...\")\n",
    "    resp = requests.post(post_url, auth=auth, headers=post_hdrs, verify=False, json=intf)\n",
    "    \n",
    "    logging.info(f\"Status Code: {resp.status_code}, Reason: {resp.reason}\\n\")\n",
    "    \n",
    "def get_intf(name: str):\n",
    "    # Headers for GET request\n",
    "    get_hdrs = {\"Accept\": \"application/yang-data+json\"}\n",
    "    get_url = f\"{api_path}/data/ietf-interfaces:interfaces/interface={name}\"\n",
    "    logging.info(f\"Get interface {name}...\")\n",
    "    resp = requests.get(get_url, auth=auth, headers=get_hdrs, verify=False)\n",
    "    logging.info(str(resp.json()) + '\\n')\n",
    "    \n",
    "def del_intf(name: str): \n",
    "    # Headers for DELETE request\n",
    "    delete_hdrs = {\"Accept\": \"application/yang-data+json\"}\n",
    "    delete_url = f\"{api_path}/data/ietf-interfaces:interfaces/interface={name}\"\n",
    "    logging.info(f\"Delete interface {name}...\")\n",
    "    resp = requests.delete(delete_url, auth=auth, headers=delete_hdrs, verify=False)\n",
    "    \n",
    "    logging.info(f\"Status Code: {resp.status_code}, Reason: {resp.reason}\\n\")\n",
    "\n",
    "   \n",
    "if __name__ == \"__main__\":\n",
    "    while True:\n",
    "        print(\"1. Create Interface\")\n",
    "        print(\"2. Get Interface\")\n",
    "        print(\"3. Delete Interface\")\n",
    "        print(\"4. Quit\")\n",
    "        answer = input(\"Enter selection: \")\n",
    "        if not answer == \"4\":\n",
    "            intf_name = input(\"Interface name: \")\n",
    "            if answer == \"1\":\n",
    "                create_intf(intf_name)\n",
    "            if answer == \"2\":\n",
    "                get_intf(intf_name)\n",
    "            if answer == \"3\":\n",
    "                del_intf(intf_name)\n",
    "        elif answer == \"4\":\n",
    "            break\n",
    "        else:\n",
    "            \"Invalid selection!\"\n",
    "    \n"
   ]
  },
  {
   "cell_type": "code",
   "execution_count": null,
   "id": "e84b3e44",
   "metadata": {},
   "outputs": [],
   "source": []
  }
 ],
 "metadata": {
  "kernelspec": {
   "display_name": "Python 3 (ipykernel)",
   "language": "python",
   "name": "python3"
  },
  "language_info": {
   "codemirror_mode": {
    "name": "ipython",
    "version": 3
   },
   "file_extension": ".py",
   "mimetype": "text/x-python",
   "name": "python",
   "nbconvert_exporter": "python",
   "pygments_lexer": "ipython3",
   "version": "3.8.12"
  }
 },
 "nbformat": 4,
 "nbformat_minor": 5
}
